{
 "cells": [
  {
   "cell_type": "markdown",
   "id": "ea5be3b9",
   "metadata": {},
   "source": [
    "# Introduction\n",
    "\n",
    "Teure Uhren, die man sich als Student nicht leisten kann, sind kein tolles Hobby. \n",
    "Wenn es allerdings eine Möglichkeit gäbe herauszufinden welche Uhr sehr teuer aussieht es aber nicht ist. \n",
    "So wäre es Möglich als armer Student trotzdem prollen zu können. \n",
    "Da das Aussehen einer Uhr besonders Subjektiv ist, muss eine Objektive Möglichkeit gefunden werden um den Preis von Uhren anhand des Aussehens zu schätzen.\n",
    "Hier kommt Machine Learning ins Spiel. Ein Modell soll anhand von Mathematischen Grundlagen herausfinden, welche Uhren teuerer und welche billiger aussehen. \n",
    "\n",
    "Aus dieser Herrausforderung ensteht das folgende Projekt.\n",
    "Das konkrete Ziel ist es:\n",
    "**Den Preis einer Uhr anhand eines Bildes der Uhr vorherzusagen.**"
   ]
  },
  {
   "cell_type": "markdown",
   "id": "4590e54f",
   "metadata": {},
   "source": []
  },
  {
   "cell_type": "markdown",
   "id": "05d142e9",
   "metadata": {},
   "source": [
    "# Data\n",
    "\n",
    "Zur Lösung des Problems wurden drei Datensätze zusammengestellt und gedowloaded.\n",
    "Der erste Datensatz ist ein offizieller Datensatz von Kaggle, welcher frei zugänglich ist. \n",
    "\n",
    "## DS_1 [Kaggle - A Dataset of Watches](https://www.kaggle.com/datasets/mathewkouch/a-dataset-of-watches)\n",
    "\n",
    "Dieser Datensatz umfasst 2553 Uhrenbilder und zusätzliche Informationen zur Marke zum Namen der Uhr und zum Preis in US Dollar. Zum Zeitpunkt der Arbeit gibt es keine öffentlichen Codebeispiele für den Datensatz.\n",
    "\n",
    "## DS_2 Scraped OnlineShop [Marc Gebauer](https://marcgebauer.com/collections/alle-luxus-uhren)\n",
    "\n",
    "Mithilfe eines [GITHub Shopify Scraper](https://github.com/lagenar/shopify-scraper) der minimal angepasst wurde, wurden 230 Uhrenbilder vom Marc Gebauer Shop gescraped. Zusätzlich konnte der Scraper auch die Preise der Produkte festhalten und in einer CSV abspeichern.\n",
    "\n",
    "## DS_3 Scraped OnlineShop [Crown & Caliber](https://www.crownandcaliber.com/)\n",
    "Ebenfalls mithilfe es angepassten [GITHub Shopify Scraper](https://github.com/lagenar/shopify-scraper) konnten in diesem OnlineShop 26.216 Bilder Uhren und deren Preis gescraped werden. "
   ]
  },
  {
   "cell_type": "code",
   "execution_count": 2,
   "id": "0ff34470",
   "metadata": {},
   "outputs": [],
   "source": [
    "### Imports for this Notebook\n",
    "\n",
    "import matplotlib as plt\n",
    "import pandas as pd"
   ]
  },
  {
   "cell_type": "markdown",
   "id": "d600f889",
   "metadata": {},
   "source": [
    "# Scraper"
   ]
  },
  {
   "cell_type": "markdown",
   "id": "6de1c4bd",
   "metadata": {},
   "source": [
    "## Get Shop Items"
   ]
  },
  {
   "cell_type": "markdown",
   "id": "44bf0b5c",
   "metadata": {},
   "source": [
    "## Get Images"
   ]
  },
  {
   "cell_type": "markdown",
   "id": "704eb62b",
   "metadata": {},
   "source": [
    "# Data Preperation"
   ]
  },
  {
   "cell_type": "code",
   "execution_count": null,
   "id": "c30c0ba3",
   "metadata": {},
   "outputs": [],
   "source": [
    "### Helperfunctions\n",
    "\n",
    "def add_jpg_suffix(string):\n",
    "    return string + '.jpg'"
   ]
  },
  {
   "cell_type": "code",
   "execution_count": null,
   "id": "333cbef5",
   "metadata": {},
   "outputs": [],
   "source": [
    "def format_data_frame(df, drop_colums = None,\n",
    "                      replace_stringparts = None, \n",
    "                      convert_price = None,\n",
    "                      select_category= None,\n",
    "                      create_path_from_name = None,\n",
    "                      reindex = None):\n",
    "\n",
    "    #Choose a category from the Shopify Shop Categories if the Shop has not only watches\n",
    "    if select_category != None:\n",
    "        df[df['Category'] == select_category]\n",
    "    \n",
    "    #Drop the columns we don't need for the Model\n",
    "    if drop_colums != None:\n",
    "        df = df.drop(drop_colums, axis=1)\n",
    "    \n",
    "    #Replace unnecessary string parts in the Price String of the Kaggle Data\n",
    "    if replace_stringparts != None:\n",
    "        for replace_object in replace_objects:\n",
    "            df['price'] = df['price'].replace(replace_object , '', regex=True)\n",
    "    \n",
    "    #Convert the Price to a specific Datatype\n",
    "    if convert_price != None:\n",
    "        df[\"price\"].astype(float)\n",
    "        \n",
    "    if create_path_from_name != None:\n",
    "        df['full_path'] = df['Code'].apply(add_jpg_suffix)\n",
    "        \n",
    "    if reindex != None:\n",
    "        df = df.reindex(columns=reindex)\n"
   ]
  },
  {
   "cell_type": "markdown",
   "id": "b7d2be5c",
   "metadata": {},
   "source": [
    "# First Data Inspection"
   ]
  },
  {
   "cell_type": "code",
   "execution_count": null,
   "id": "e1367664",
   "metadata": {},
   "outputs": [],
   "source": []
  },
  {
   "cell_type": "code",
   "execution_count": null,
   "id": "b1da35e4",
   "metadata": {},
   "outputs": [],
   "source": []
  }
 ],
 "metadata": {
  "kernelspec": {
   "display_name": "Python 3 (ipykernel)",
   "language": "python",
   "name": "python3"
  },
  "language_info": {
   "codemirror_mode": {
    "name": "ipython",
    "version": 3
   },
   "file_extension": ".py",
   "mimetype": "text/x-python",
   "name": "python",
   "nbconvert_exporter": "python",
   "pygments_lexer": "ipython3",
   "version": "3.11.2"
  }
 },
 "nbformat": 4,
 "nbformat_minor": 5
}
