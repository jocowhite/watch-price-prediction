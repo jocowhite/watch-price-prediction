{
 "cells": [
  {
   "cell_type": "markdown",
   "id": "ea5be3b9",
   "metadata": {},
   "source": [
    "# Introduction\n",
    "\n",
    "Teure Uhren, die man sich als Student nicht leisten kann, sind kein tolles Hobby. \n",
    "Wenn es allerdings eine Möglichkeit gäbe herauszufinden welche Uhr sehr teuer aussieht es aber nicht ist. \n",
    "So wäre es Möglich als armer Student trotzdem prollen zu können. \n",
    "Da das Aussehen einer Uhr besonders Subjektiv ist, muss eine Objektive Möglichkeit gefunden werden um den Preis von Uhren anhand des Aussehens zu schätzen.\n",
    "Hier kommt Machine Learning ins Spiel. Ein Modell soll anhand von Mathematischen Grundlagen herausfinden, welche Uhren teuerer und welche billiger aussehen. \n",
    "\n",
    "Aus dieser Herrausforderung ensteht das folgende Projekt.\n",
    "Das konkrete Ziel ist es:\n",
    "**Den Preis einer Uhr anhand eines Bildes der Uhr vorherzusagen.**"
   ]
  },
  {
   "cell_type": "markdown",
   "id": "4590e54f",
   "metadata": {},
   "source": []
  },
  {
   "cell_type": "markdown",
   "id": "05d142e9",
   "metadata": {},
   "source": [
    "# Data\n",
    "\n",
    "Zur Lösung des Problems wurden drei Datensätze zusammengestellt und gedowloaded.\n",
    "Der erste Datensatz ist ein offizieller Datensatz von Kaggle, welcher frei zugänglich ist. \n",
    "\n",
    "## DS_1 [Kaggle - A Dataset of Watches](https://www.kaggle.com/datasets/mathewkouch/a-dataset-of-watches)\n",
    "\n",
    "Dieser Datensatz umfasst 2553 Uhrenbilder und zusätzliche Informationen zur Marke zum Namen der Uhr und zum Preis in US Dollar. Zum Zeitpunkt der Arbeit gibt es keine öffentlichen Codebeispiele für den Datensatz.\n",
    "\n",
    "## DS_2 Scraped OnlineShop [Marc Gebauer](https://marcgebauer.com/collections/alle-luxus-uhren)\n",
    "\n",
    "Mithilfe eines [GITHub Shopify Scraper](https://github.com/lagenar/shopify-scraper) der minimal angepasst wurde, wurden 230 Uhrenbilder vom Marc Gebauer Shop gescraped. Zusätzlich konnte der Scraper auch die Preise der Produkte festhalten und in einer CSV abspeichern.\n",
    "\n",
    "## DS_3 Scraped OnlineShop [Crown & Caliber](https://www.crownandcaliber.com/)\n",
    "Ebenfalls mithilfe es angepassten [GITHub Shopify Scraper](https://github.com/lagenar/shopify-scraper) konnten in diesem OnlineShop 26.216 Bilder Uhren und deren Preis gescraped werden. "
   ]
  },
  {
   "cell_type": "code",
   "execution_count": 19,
   "id": "476ea6af",
   "metadata": {},
   "outputs": [],
   "source": [
    "### Imports for this Notebook\n",
    "import matplotlib as plt\n",
    "import pandas as pd\n",
    "\n",
    "import urllib.request \n",
    "import pandas as pd\n",
    "import concurrent.futures"
   ]
  },
  {
   "cell_type": "markdown",
   "id": "d600f889",
   "metadata": {},
   "source": [
    "# Scraper"
   ]
  },
  {
   "cell_type": "markdown",
   "id": "b1c6ee38",
   "metadata": {},
   "source": [
    "### Scrape Products from Shops with [GitHub Scraper](https://github.com/lagenar/shopify-scraper)"
   ]
  },
  {
   "cell_type": "code",
   "execution_count": null,
   "id": "e328d120",
   "metadata": {},
   "outputs": [],
   "source": [
    "from shopify_scraper import extract_products"
   ]
  },
  {
   "cell_type": "code",
   "execution_count": 16,
   "id": "b2679d9d",
   "metadata": {},
   "outputs": [],
   "source": [
    "### TIME INFORMATION: needs 1,5 Minutes to run\n",
    "extract_products(\"https://marcgebauer.com\", 'data/metadata/marc_products.csv')"
   ]
  },
  {
   "cell_type": "code",
   "execution_count": null,
   "id": "9a082868",
   "metadata": {},
   "outputs": [],
   "source": [
    "### TIME INFORMATION: needs X,X Minutes to run\n",
    "extract_products(\"https://www.crownandcaliber.com\", 'data/metadata/crown_products.csv')"
   ]
  },
  {
   "cell_type": "markdown",
   "id": "5758ce30",
   "metadata": {},
   "source": [
    "### Download images from the shops"
   ]
  },
  {
   "cell_type": "code",
   "execution_count": 20,
   "id": "af6bd49d",
   "metadata": {},
   "outputs": [],
   "source": [
    "def get_picture(row):\n",
    "    url = row[1][\"Image URL\"]\n",
    "    code = row[1][\"Code\"]\n",
    "    \n",
    "    try:\n",
    "        # Bild herunterladen und speichern\n",
    "        image_filename = \"data/watches/\" + folder + f\"/newImages/{code}.jpg\"\n",
    "        urllib.request.urlretrieve(url, image_filename)\n",
    "        return \"Bild gespeichert:\" + image_filename\n",
    "    except Exception as e:\n",
    "        return \"Fehler beim Herunterladen des Bildes:\" +  url +  \"Fehlermeldung:\" +  str(e)\n",
    "    \n",
    "def download_images(df):\n",
    "    with concurrent.futures.ThreadPoolExecutor(max_workers=5) as executor:\n",
    "\n",
    "        future_row = [executor.submit(get_picture, row) for row in df.iterrows()]\n",
    "\n",
    "        for future in concurrent.futures.as_completed(future_row):\n",
    "            try:\n",
    "                print(future.result())\n",
    "            except Exception as exc:\n",
    "                print(f\"Fehler: {exc}\")"
   ]
  },
  {
   "cell_type": "code",
   "execution_count": null,
   "id": "2269dc16",
   "metadata": {},
   "outputs": [],
   "source": [
    "df_marc = pd.read_csv(\"data/metadata/marc_products.csv\")"
   ]
  },
  {
   "cell_type": "markdown",
   "id": "92e3fe28",
   "metadata": {},
   "source": [
    "## Get Shop Items"
   ]
  },
  {
   "cell_type": "markdown",
   "id": "0d60c5f7",
   "metadata": {},
   "source": [
    "## Get Images"
   ]
  },
  {
   "cell_type": "markdown",
   "id": "6006b930",
   "metadata": {},
   "source": [
    "# Data Preperation"
   ]
  },
  {
   "cell_type": "code",
   "execution_count": 3,
   "id": "b04d26fa",
   "metadata": {},
   "outputs": [],
   "source": [
    "## Helperfunctions\n",
    "\n",
    "### Change the used filetype here\n",
    "def add_jpg_suffix(string):\n",
    "    return string + '.jpg'\n",
    "\n",
    "### You can change the conversion rate here\n",
    "def convert_usd_to_eur(price):\n",
    "    return price * 1.0675"
   ]
  },
  {
   "cell_type": "code",
   "execution_count": 4,
   "id": "f54c30d9",
   "metadata": {},
   "outputs": [],
   "source": [
    "def format_data(df, drop_colums = None,\n",
    "                      replace_stringparts = None, \n",
    "                      convert_price = None,\n",
    "                      covert_to_usd = False,\n",
    "                      select_category= None,\n",
    "                      create_path_from_name = False,\n",
    "                      reindex = None):\n",
    "\n",
    "    #Choose a category from the Shopify Shop Categories if the Shop has not only watches\n",
    "    if select_category != None:\n",
    "        df[df['Category'] == select_category]\n",
    "    \n",
    "    #Drop the columns we don't need for the Model\n",
    "    if drop_colums != None:\n",
    "        df = df.drop(drop_colums, axis=1)\n",
    "    \n",
    "    #Replace unnecessary string parts in the Price String of the Kaggle Data\n",
    "    if replace_stringparts != None:\n",
    "        for replace_object in replace_objects:\n",
    "            df['price'] = df['price'].replace(replace_object , '', regex=True)\n",
    "    \n",
    "    #Convert the Price to a specific Datatype\n",
    "    if convert_price != None:\n",
    "        df[\"price\"].astype(float)\n",
    "        \n",
    "    if convert_to_usd:\n",
    "        df['price'] = df['price'].apply(convert_usd_to_eur)\n",
    "        \n",
    "    if create_path_from_name:\n",
    "        df['full_path'] = df['Code'].apply(add_jpg_suffix)\n",
    "        \n",
    "    if reindex != None:\n",
    "        df = df.reindex(columns=reindex)\n",
    "\n",
    "    return df"
   ]
  },
  {
   "cell_type": "markdown",
   "id": "169c05ae",
   "metadata": {},
   "source": [
    "## Clean DS2 Marc Gebauer Products"
   ]
  },
  {
   "cell_type": "code",
   "execution_count": null,
   "id": "79e25218",
   "metadata": {},
   "outputs": [],
   "source": [
    "df_marc = pd.read_csv(\"data/metadata/marc_products.csv\")\n",
    "df_marc = format_data(df_marc,\n",
    "                        create_path_from_name=True,\n",
    "                        reindex=['full_path', 'price'],\n",
    "                        drop_colums=['Name', 'URL', 'Image URL','Collection', 'Category', 'Variant Name', 'In Stock'])\n",
    "df_marc.to_csv(\"data/watches/ds2_marc/cleandata.csv\")\n",
    "df_marc.head()"
   ]
  },
  {
   "cell_type": "markdown",
   "id": "9e4ff256",
   "metadata": {},
   "source": [
    "## Clean DS3 Crown Caliber Products"
   ]
  },
  {
   "cell_type": "code",
   "execution_count": 10,
   "id": "11698189",
   "metadata": {},
   "outputs": [],
   "source": [
    "df_crown = pd.read_csv(\"data/metadata/crown_products.csv\")\n",
    "df_crown = format_data(df_crown,\n",
    "                        create_path_from_name=True,\n",
    "                        reindex=['full_path', 'price'],\n",
    "                        drop_colums=['Name', 'URL', 'Image URL','Collection', 'Category', 'Variant Name', 'In Stock'])\n",
    "df_crown.to_csv(\"data/watches/ds3_crown/cleandata.csv\")\n",
    "df_crown.head()"
   ]
  },
  {
   "cell_type": "markdown",
   "id": "b7d2be5c",
   "metadata": {},
   "source": [
    "# First Data Inspection"
   ]
  },
  {
   "cell_type": "code",
   "execution_count": null,
   "id": "e1367664",
   "metadata": {},
   "outputs": [],
   "source": []
  },
  {
   "cell_type": "code",
   "execution_count": null,
   "id": "b1da35e4",
   "metadata": {},
   "outputs": [],
   "source": []
  }
 ],
 "metadata": {
  "kernelspec": {
   "display_name": "Python 3 (ipykernel)",
   "language": "python",
   "name": "python3"
  },
  "language_info": {
   "codemirror_mode": {
    "name": "ipython",
    "version": 3
   },
   "file_extension": ".py",
   "mimetype": "text/x-python",
   "name": "python",
   "nbconvert_exporter": "python",
   "pygments_lexer": "ipython3",
   "version": "3.11.2"
  }
 },
 "nbformat": 4,
 "nbformat_minor": 5
}
