{
 "cells": [
  {
   "cell_type": "markdown",
   "id": "0570c66b",
   "metadata": {},
   "source": [
    "## Try to predict WatchBrands\n",
    "\n",
    "This is a try to predict watchbrands from a Image instead of predicting the price directly you could first try to get the brand and predict the price with that information known.\n",
    "\n",
    "The model is trained to predict between 11 different watch brands."
   ]
  },
  {
   "cell_type": "code",
   "execution_count": 1,
   "id": "f239d9fb",
   "metadata": {},
   "outputs": [],
   "source": [
    "import fastai\n",
    "\n",
    "from fastai import *\n",
    "from fastai.vision.all import *\n",
    "\n",
    "from torchvision.models import *\n",
    "import pretrainedmodels\n",
    "\n",
    "from utils import *\n",
    "import sys\n",
    "import pickle"
   ]
  },
  {
   "cell_type": "code",
   "execution_count": 2,
   "id": "4fc998f9",
   "metadata": {},
   "outputs": [],
   "source": [
    "path_wiki = Path('data/watches/ds3_crown/cleandata.csv')\n",
    "path_imdb = Path('data/watches/ds3_crown/images/')"
   ]
  },
  {
   "cell_type": "code",
   "execution_count": 3,
   "id": "0509dcf4",
   "metadata": {},
   "outputs": [
    {
     "name": "stdout",
     "output_type": "stream",
     "text": [
      "Pictures in the Dataset: 26210\n"
     ]
    }
   ],
   "source": [
    "files = get_image_files(path_imdb)\n",
    "print(f\"Pictures in the Dataset: {len(files)}\")"
   ]
  },
  {
   "cell_type": "code",
   "execution_count": 4,
   "id": "a5e6ca01",
   "metadata": {},
   "outputs": [],
   "source": [
    "label = r'\\d+-\\d+-(\\w+)-\\w+\\.jpg'"
   ]
  },
  {
   "cell_type": "markdown",
   "id": "be20a246",
   "metadata": {},
   "source": [
    "## Filter"
   ]
  },
  {
   "cell_type": "code",
   "execution_count": 5,
   "id": "a4bf7968",
   "metadata": {},
   "outputs": [
    {
     "name": "stdout",
     "output_type": "stream",
     "text": [
      "Pictures in the Dataset: 22171\n"
     ]
    }
   ],
   "source": [
    "filtered_files = []\n",
    "\n",
    "whatch_brands_inc = [\"-OME-\", \"-ROL-\", \"-HEU-\", \"-TAG-\", \"-BRT-\", \"-ALS-\", \"-AUD-\", \"-BLR-\", \"CAR\", \"IWC\", \"-JLC-\"]\n",
    "\n",
    "for picture_path in files:\n",
    "    for whatch_brand in whatch_brands_inc:\n",
    "        if whatch_brand in picture_path.name:\n",
    "            filtered_files.append(picture_path)\n",
    "\n",
    "print(f\"Pictures in the Dataset: {len(filtered_files)}\")"
   ]
  },
  {
   "cell_type": "code",
   "execution_count": 6,
   "id": "55295d0d",
   "metadata": {},
   "outputs": [],
   "source": [
    "dls = ImageDataLoaders.from_name_re(\"data/watches/crownandcaliber/images\", filtered_files, label, item_tfms=Resize(224))"
   ]
  },
  {
   "cell_type": "code",
   "execution_count": 8,
   "id": "f424e4a7",
   "metadata": {},
   "outputs": [],
   "source": [
    "dls = ImageDataLoaders.from_name_re(\"data/watches/crownandcaliber/images\", filtered_files, label, item_tfms=Resize(224))"
   ]
  },
  {
   "cell_type": "code",
   "execution_count": 10,
   "id": "130ac51a",
   "metadata": {},
   "outputs": [],
   "source": [
    "%%capture\n",
    "learn = vision_learner(dls, resnet34, metrics=accuracy)"
   ]
  },
  {
   "cell_type": "code",
   "execution_count": 11,
   "id": "5bb86bf2",
   "metadata": {},
   "outputs": [
    {
     "data": {
      "text/html": [
       "\n",
       "<style>\n",
       "    /* Turns off some styling */\n",
       "    progress {\n",
       "        /* gets rid of default border in Firefox and Opera. */\n",
       "        border: none;\n",
       "        /* Needs to be in here for Safari polyfill so background images work as expected. */\n",
       "        background-size: auto;\n",
       "    }\n",
       "    progress:not([value]), progress:not([value])::-webkit-progress-bar {\n",
       "        background: repeating-linear-gradient(45deg, #7e7e7e, #7e7e7e 10px, #5c5c5c 10px, #5c5c5c 20px);\n",
       "    }\n",
       "    .progress-bar-interrupted, .progress-bar-interrupted::-webkit-progress-bar {\n",
       "        background: #F44336;\n",
       "    }\n",
       "</style>\n"
      ],
      "text/plain": [
       "<IPython.core.display.HTML object>"
      ]
     },
     "metadata": {},
     "output_type": "display_data"
    },
    {
     "data": {
      "text/html": [],
      "text/plain": [
       "<IPython.core.display.HTML object>"
      ]
     },
     "metadata": {},
     "output_type": "display_data"
    },
    {
     "data": {
      "text/plain": [
       "SuggestedLRs(valley=0.0012022644514217973)"
      ]
     },
     "execution_count": 11,
     "metadata": {},
     "output_type": "execute_result"
    },
    {
     "data": {
      "image/png": "[encoded data removed]",
      "text/plain": [
       "<Figure size 640x480 with 1 Axes>"
      ]
     },
     "metadata": {},
     "output_type": "display_data"
    }
   ],
   "source": [
    "learn.lr_find()"
   ]
  },
  {
   "cell_type": "code",
   "execution_count": 12,
   "id": "d27e0c6a",
   "metadata": {},
   "outputs": [
    {
     "data": {
      "text/html": [
       "\n",
       "<style>\n",
       "    /* Turns off some styling */\n",
       "    progress {\n",
       "        /* gets rid of default border in Firefox and Opera. */\n",
       "        border: none;\n",
       "        /* Needs to be in here for Safari polyfill so background images work as expected. */\n",
       "        background-size: auto;\n",
       "    }\n",
       "    progress:not([value]), progress:not([value])::-webkit-progress-bar {\n",
       "        background: repeating-linear-gradient(45deg, #7e7e7e, #7e7e7e 10px, #5c5c5c 10px, #5c5c5c 20px);\n",
       "    }\n",
       "    .progress-bar-interrupted, .progress-bar-interrupted::-webkit-progress-bar {\n",
       "        background: #F44336;\n",
       "    }\n",
       "</style>\n"
      ],
      "text/plain": [
       "<IPython.core.display.HTML object>"
      ]
     },
     "metadata": {},
     "output_type": "display_data"
    },
    {
     "data": {
      "text/html": [
       "<table border=\"1\" class=\"dataframe\">\n",
       "  <thead>\n",
       "    <tr style=\"text-align: left;\">\n",
       "      <th>epoch</th>\n",
       "      <th>train_loss</th>\n",
       "      <th>valid_loss</th>\n",
       "      <th>accuracy</th>\n",
       "      <th>time</th>\n",
       "    </tr>\n",
       "  </thead>\n",
       "  <tbody>\n",
       "    <tr>\n",
       "      <td>0</td>\n",
       "      <td>0.504004</td>\n",
       "      <td>0.264539</td>\n",
       "      <td>0.921516</td>\n",
       "      <td>31:15</td>\n",
       "    </tr>\n",
       "  </tbody>\n",
       "</table>"
      ],
      "text/plain": [
       "<IPython.core.display.HTML object>"
      ]
     },
     "metadata": {},
     "output_type": "display_data"
    },
    {
     "data": {
      "text/html": [
       "\n",
       "<style>\n",
       "    /* Turns off some styling */\n",
       "    progress {\n",
       "        /* gets rid of default border in Firefox and Opera. */\n",
       "        border: none;\n",
       "        /* Needs to be in here for Safari polyfill so background images work as expected. */\n",
       "        background-size: auto;\n",
       "    }\n",
       "    progress:not([value]), progress:not([value])::-webkit-progress-bar {\n",
       "        background: repeating-linear-gradient(45deg, #7e7e7e, #7e7e7e 10px, #5c5c5c 10px, #5c5c5c 20px);\n",
       "    }\n",
       "    .progress-bar-interrupted, .progress-bar-interrupted::-webkit-progress-bar {\n",
       "        background: #F44336;\n",
       "    }\n",
       "</style>\n"
      ],
      "text/plain": [
       "<IPython.core.display.HTML object>"
      ]
     },
     "metadata": {},
     "output_type": "display_data"
    },
    {
     "data": {
      "text/html": [
       "<table border=\"1\" class=\"dataframe\">\n",
       "  <thead>\n",
       "    <tr style=\"text-align: left;\">\n",
       "      <th>epoch</th>\n",
       "      <th>train_loss</th>\n",
       "      <th>valid_loss</th>\n",
       "      <th>accuracy</th>\n",
       "      <th>time</th>\n",
       "    </tr>\n",
       "  </thead>\n",
       "  <tbody>\n",
       "    <tr>\n",
       "      <td>0</td>\n",
       "      <td>0.155730</td>\n",
       "      <td>0.195260</td>\n",
       "      <td>0.946775</td>\n",
       "      <td>37:05</td>\n",
       "    </tr>\n",
       "    <tr>\n",
       "      <td>1</td>\n",
       "      <td>0.054816</td>\n",
       "      <td>0.057160</td>\n",
       "      <td>0.983536</td>\n",
       "      <td>5:15:51</td>\n",
       "    </tr>\n",
       "    <tr>\n",
       "      <td>2</td>\n",
       "      <td>0.011254</td>\n",
       "      <td>0.034039</td>\n",
       "      <td>0.990753</td>\n",
       "      <td>1:34:29</td>\n",
       "    </tr>\n",
       "  </tbody>\n",
       "</table>"
      ],
      "text/plain": [
       "<IPython.core.display.HTML object>"
      ]
     },
     "metadata": {},
     "output_type": "display_data"
    }
   ],
   "source": [
    "learn.fine_tune(3, 3e-3)"
   ]
  },
  {
   "cell_type": "code",
   "execution_count": 13,
   "id": "ed75b04a",
   "metadata": {},
   "outputs": [],
   "source": [
    "with open(\"brand_prediction_model.pickle\", mode=\"wb\") as out_file:\n",
    "    pickle.dump(learn, out_file)"
   ]
  },
  {
   "cell_type": "markdown",
   "id": "1f3b69d1",
   "metadata": {},
   "source": [
    "## Short Evaluation\n",
    "\n",
    "This gives a hint for future prjects, that it could work better to start with predicting the brand. \n",
    "This isn't a well evaluated model but the accuracy in the Training shows a huge potential for that."
   ]
  }
 ],
 "metadata": {
  "kernelspec": {
   "display_name": "Python 3 (ipykernel)",
   "language": "python",
   "name": "python3"
  },
  "language_info": {
   "codemirror_mode": {
    "name": "ipython",
    "version": 3
   },
   "file_extension": ".py",
   "mimetype": "text/x-python",
   "name": "python",
   "nbconvert_exporter": "python",
   "pygments_lexer": "ipython3",
   "version": "3.11.2"
  }
 },
 "nbformat": 4,
 "nbformat_minor": 5
}
